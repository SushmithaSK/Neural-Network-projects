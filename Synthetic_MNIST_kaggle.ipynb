{
  "nbformat": 4,
  "nbformat_minor": 0,
  "metadata": {
    "colab": {
      "provenance": [],
      "gpuType": "T4",
      "authorship_tag": "ABX9TyMjVDvARchEP7tPmbz7nGv7"
    },
    "kernelspec": {
      "name": "python3",
      "display_name": "Python 3"
    },
    "language_info": {
      "name": "python"
    },
    "accelerator": "GPU"
  },
  "cells": [
    {
      "cell_type": "code",
      "source": [
        "#preriquisites\n",
        "!pip install -q kaggle"
      ],
      "metadata": {
        "id": "qbfstrxVcg1O"
      },
      "execution_count": 1,
      "outputs": []
    },
    {
      "cell_type": "markdown",
      "source": [
        "**Kaggle** **API**\n",
        "\n",
        "Using Kaggle's beta API, you can interact with Competitions and Datasets to download data, make submissions, and more via the command line.\n",
        "\n",
        "> Ensure kaggle.json is in the location ~/.kaggle/kaggle.json to use the API.\n"
      ],
      "metadata": {
        "id": "LOTUGpjzhPAm"
      }
    },
    {
      "cell_type": "code",
      "source": [
        "!mkdir ~/.kaggle"
      ],
      "metadata": {
        "id": "3sxX00ZZcy4G"
      },
      "execution_count": 2,
      "outputs": []
    },
    {
      "cell_type": "code",
      "source": [
        "!cp /content/kaggle.json ~/.kaggle"
      ],
      "metadata": {
        "id": "rgizEMQseRQG"
      },
      "execution_count": 3,
      "outputs": []
    },
    {
      "cell_type": "code",
      "source": [
        "!chmod 600 ~/.kaggle/kaggle.json"
      ],
      "metadata": {
        "id": "aKZKoRbdenSm"
      },
      "execution_count": 4,
      "outputs": []
    },
    {
      "cell_type": "code",
      "source": [
        "!kaggle datasets list"
      ],
      "metadata": {
        "id": "sTaw93lCe8fh"
      },
      "execution_count": null,
      "outputs": []
    },
    {
      "cell_type": "markdown",
      "source": [
        "#Download Data"
      ],
      "metadata": {
        "id": "oLDVPrl9fr8E"
      }
    },
    {
      "cell_type": "code",
      "source": [
        "!kaggle datasets download -d 'prasunroy/synthetic-digits'"
      ],
      "metadata": {
        "colab": {
          "base_uri": "https://localhost:8080/"
        },
        "id": "-zMgC_8ufwun",
        "outputId": "1d379a45-8fe9-4192-f8b7-5c687460b719"
      },
      "execution_count": 6,
      "outputs": [
        {
          "output_type": "stream",
          "name": "stdout",
          "text": [
            "Downloading synthetic-digits.zip to /content\n",
            "100% 231M/232M [00:02<00:00, 85.7MB/s]\n",
            "100% 232M/232M [00:02<00:00, 88.7MB/s]\n"
          ]
        }
      ]
    },
    {
      "cell_type": "code",
      "source": [
        "!unzip synthetic-digits.zip -d synthetic-digits"
      ],
      "metadata": {
        "id": "Ta_k9nScgWjs"
      },
      "execution_count": null,
      "outputs": []
    },
    {
      "cell_type": "code",
      "source": [
        "!mkdir processed_data"
      ],
      "metadata": {
        "id": "xgqelETEgnUB"
      },
      "execution_count": 8,
      "outputs": []
    },
    {
      "cell_type": "code",
      "source": [
        "!chmod 600 processed_data"
      ],
      "metadata": {
        "id": "rQIbAJgzUWvE"
      },
      "execution_count": 9,
      "outputs": []
    },
    {
      "cell_type": "code",
      "source": [
        "!chmod 600 /content/synthetic-digits/synthetic_digits/imgs_train"
      ],
      "metadata": {
        "id": "FMbHNdRuUIbk"
      },
      "execution_count": 10,
      "outputs": []
    },
    {
      "cell_type": "code",
      "source": [
        "!ls /content/synthetic-digits/synthetic_digits/imgs_train"
      ],
      "metadata": {
        "id": "XY6JIxkeUiCQ"
      },
      "execution_count": null,
      "outputs": []
    },
    {
      "cell_type": "markdown",
      "source": [
        "#Synthetic MNIST\n",
        "Synthetic MNIST is a variation of MNIST contains handwritten characters of color images & background images.\n",
        "Data is present in Kaggle\n"
      ],
      "metadata": {
        "id": "D9NMdoooZm1-"
      }
    },
    {
      "cell_type": "code",
      "execution_count": 12,
      "metadata": {
        "id": "yibLWtNgZb3F"
      },
      "outputs": [],
      "source": [
        "#os module is a library of Operating system file utilities\n",
        "#PIL is a Image processing library\n",
        "#sklearn is the scikit learning library matplotlib has many plotting capabilities\n",
        "\n",
        "import numpy as np\n",
        "import os\n",
        "from tensorflow import keras\n",
        "from PIL import Image\n",
        "from sklearn.model_selection import train_test_split\n",
        "#modelu is used to split the data into train/test dataset at  a particular ratio\n",
        "\n",
        "from keras.models import Sequential\n",
        "\n",
        "from keras.layers import Dense, Flatten\n",
        "from keras.layers import Conv2D, MaxPool2D\n",
        "from keras.layers import Dropout\n",
        "from keras.layers import Reshape\n",
        "from keras.layers import LeakyReLU\n",
        "\n",
        "import matplotlib.pylab as plt"
      ]
    },
    {
      "cell_type": "code",
      "source": [
        "#input image dimentions\n",
        "dimen=28\n",
        "num_channels = 3"
      ],
      "metadata": {
        "id": "o0LDbuuBirOv"
      },
      "execution_count": 13,
      "outputs": []
    },
    {
      "cell_type": "markdown",
      "source": [
        "#Data Converter\n",
        "\n",
        "Data Converter Iterates into the Kaggle data, preprocesses the images and stores pre-processed images into four files\n",
        "\n",
        "Kaggle store info in directory structure.Name of the directory is the name of the class.withing each dir we will have the no of samples needed for training or testing\n",
        "\n",
        "\n",
        "*   dir_path =\"/content/synthetic-digits/synthetic-digits/imgs_train\" contains all required samples\n",
        "*   output_path = \"/content/processed_data\" - will place the processed data here\n",
        "\n",
        "**Process** :\n",
        "\n",
        "1.  Iterate through the directory (dir_path)\n",
        "2.  Find the sub directories\n",
        "1.  The sub directories become label for the particular class\n",
        "2.  Read all images from the files and append to array (image)\n",
        "1.  convert y value into categorical variables\n",
        "2.  split data into train(75%) or test (25%)\n",
        "1.  Instead of looping through the files everytime convert to '.npy' file and save. Use these files from now on\n",
        "\n",
        "\n",
        "Data Files -> Array\n",
        "Y -> categorical variable\n",
        "\n",
        "train_test_split randomly splits the input data into train and test\n",
        "\n"
      ],
      "metadata": {
        "id": "tIrJpoiti1fI"
      }
    },
    {
      "cell_type": "code",
      "source": [
        "dir_path =\"/content/synthetic-digits/synthetic_digits/imgs_train\"\n",
        "output_path = \"/content/processed_data/\"\n"
      ],
      "metadata": {
        "id": "EMBx1CR1T0HR"
      },
      "execution_count": 14,
      "outputs": []
    },
    {
      "cell_type": "code",
      "source": [
        "\n",
        "sub_dir_list = os.listdir( dir_path )\n",
        "images = list()\n",
        "labels = list()\n",
        "for i in range( len( sub_dir_list)):\n",
        "  label = 1\n",
        "  print(label)\n",
        "  image_names = os.listdir( dir_path +\"/\"+ sub_dir_list[i] )\n",
        "  for image_path in image_names:\n",
        "    path = dir_path + \"/\" + sub_dir_list[i] + \"/\" + image_path\n",
        "    try:\n",
        "      image = Image.open(path)\n",
        "      resize_image = image.resize((dimen, dimen)) #resizing images of different resolution to 28 * 28\n",
        "      array = list()\n",
        "      for x in range(dimen):\n",
        "        sub_array = list()\n",
        "        for y in range(dimen):\n",
        "          sub_array.append(image.load()[x,y])\n",
        "        array.append(sub_array)\n",
        "      image_data = np.array(array)\n",
        "      image = np.array(np.reshape(image_data, (dimen, dimen, num_channels))) / 255\n",
        "      images.append(image)\n",
        "      labels.append(label)\n",
        "    except OSError:\n",
        "      print( \"WARNING : File at {} is not an valid image.\".format( path))\n",
        "\n",
        "x = np.array( images )\n",
        "y = np.array( keras.utils.to_categorical( np.array( labels) , num_classes=len(sub_dir_list)))\n",
        "\n",
        "train_features , test_features , train_labels , test_labels = train_test_split( x, y, test_size=0.25 )\n",
        "\n",
        "np.save('{}x.npy'.format( output_path) , train_features )\n",
        "np.save('{}y.npy'.format( output_path) , train_labels )\n",
        "np.save('{}test_x.npy'.format( output_path) , test_features )\n",
        "np.save('{}test_y.npy'.format( output_path) , test_labels )\n",
        "\n",
        "print('Data processed')"
      ],
      "metadata": {
        "id": "hkiWX-6ki5sc",
        "colab": {
          "base_uri": "https://localhost:8080/"
        },
        "outputId": "44909cd0-9f4a-4382-a6a2-9470f1957f63"
      },
      "execution_count": 15,
      "outputs": [
        {
          "output_type": "stream",
          "name": "stdout",
          "text": [
            "1\n",
            "1\n",
            "1\n",
            "1\n",
            "1\n",
            "1\n",
            "1\n",
            "1\n",
            "1\n",
            "1\n",
            "Data processed\n"
          ]
        }
      ]
    },
    {
      "cell_type": "code",
      "source": [
        "print(dir_path)\n",
        "print(sub_dir_list[0] )\n",
        "print(image_path)"
      ],
      "metadata": {
        "colab": {
          "base_uri": "https://localhost:8080/"
        },
        "id": "eMDYsMOKXB6H",
        "outputId": "5ec5d610-9229-4b88-8535-1c4076bca047"
      },
      "execution_count": 16,
      "outputs": [
        {
          "output_type": "stream",
          "name": "stdout",
          "text": [
            "/content/synthetic-digits/synthetic_digits/imgs_train\n",
            "2\n",
            "5_00961.jpg\n"
          ]
        }
      ]
    },
    {
      "cell_type": "code",
      "source": [
        "#block testing -  error testing\n",
        "\"\"\"print(path)\n",
        "image = Image.open(path)\n",
        "resize_image = image.resize((dimen, dimen))\n",
        "\n",
        "array = list()\n",
        "for x in range(dimen):\n",
        "  sub_array = list()\n",
        "  for y in range(dimen):\n",
        "    sub_array.append(image.load()[x,y])\n",
        "  array.append(sub_array)\n",
        "image_data = np.array(array)\n",
        "image = np.array(np.reshape(image_data, (dimen, dimen, num_channels))) / 255\n",
        "images.append(image)\n",
        "labels.append(label)\"\"\""
      ],
      "metadata": {
        "id": "ug--blesVxVQ"
      },
      "execution_count": null,
      "outputs": []
    },
    {
      "cell_type": "code",
      "source": [
        "X = np.load('processed_data/x.npy')\n",
        "Y = np.load('processed_data/y.npy')\n",
        "test_X = np.load('processed_data/test_x.npy')\n",
        "test_Y = np.load('processed_data/test_y.npy')\n",
        "\n",
        "print(X.shape)\n",
        "print(Y.shape)\n",
        "print(test_X.shape)\n",
        "print(test_Y.shape)"
      ],
      "metadata": {
        "colab": {
          "base_uri": "https://localhost:8080/"
        },
        "id": "GjvpbyELILxO",
        "outputId": "0a17537a-bfae-404c-a658-9a3372ea8477"
      },
      "execution_count": 17,
      "outputs": [
        {
          "output_type": "stream",
          "name": "stdout",
          "text": [
            "(7500, 28, 28, 3)\n",
            "(7500, 10)\n",
            "(2500, 28, 28, 3)\n",
            "(2500, 10)\n"
          ]
        }
      ]
    },
    {
      "cell_type": "markdown",
      "source": [
        "#Pre-processing the data"
      ],
      "metadata": {
        "id": "p2WTL1phI4Kq"
      }
    },
    {
      "cell_type": "code",
      "source": [
        "X = X.reshape((X.shape[0] , dimen**2 * num_channels )).astype(np.float32)\n",
        "test_X = test_X.reshape((test_X.shape[0], dimen**2 * num_channels )).astype(np.float32)"
      ],
      "metadata": {
        "id": "ZrO6PeHcI_gH"
      },
      "execution_count": 18,
      "outputs": []
    },
    {
      "cell_type": "code",
      "source": [
        "print(X.shape)\n",
        "print(Y.shape)\n",
        "print(test_X.shape)\n",
        "print(test_Y.shape)"
      ],
      "metadata": {
        "colab": {
          "base_uri": "https://localhost:8080/"
        },
        "id": "O80JLIqJJgxb",
        "outputId": "601acc65-549a-420a-dfee-bddab787b001"
      },
      "execution_count": 19,
      "outputs": [
        {
          "output_type": "stream",
          "name": "stdout",
          "text": [
            "(7500, 2352)\n",
            "(7500, 10)\n",
            "(2500, 2352)\n",
            "(2500, 10)\n"
          ]
        }
      ]
    },
    {
      "cell_type": "markdown",
      "source": [
        "#Define hyper-parameters"
      ],
      "metadata": {
        "id": "BQ905Rd3JlJf"
      }
    },
    {
      "cell_type": "code",
      "source": [
        "input_shape = (dimen * dimen * num_channels, )\n",
        "convolution_shape = ( dimen, dimen, num_channels )\n",
        "kernel_size_1 = (4,4)\n",
        "kernel_size_2 = (3,3)\n",
        "pool_size_1 = (3,3)\n",
        "pool_size_2 = (2,2)\n",
        "\n",
        "dropout_rate = 0.5\n",
        "number_of_classes = 10\n",
        " # 0 to 9 classes\n",
        "\n",
        "batch_size = 120\n",
        "epochs = 100\n",
        "\n",
        "leaky_relu_alpha = 0.05"
      ],
      "metadata": {
        "id": "dPCr1tKaJq5h"
      },
      "execution_count": 20,
      "outputs": []
    },
    {
      "cell_type": "markdown",
      "source": [
        "#Define baseline model"
      ],
      "metadata": {
        "id": "mW-6qmOOKoQl"
      }
    },
    {
      "cell_type": "code",
      "source": [
        "from keras.layers.pooling.max_pooling2d import MaxPooling2D\n",
        "# define cnn model\n",
        "def baseline_model():\n",
        "  model = Sequential()\n",
        "  model.add(Reshape( input_shape=input_shape , target_shape=convolution_shape))\n",
        "  #block1\n",
        "  model.add(Conv2D(32, kernel_size=kernel_size_1))\n",
        "  model.add(LeakyReLU(alpha=leaky_relu_alpha))\n",
        "  model.add(Conv2D(32, kernel_size=kernel_size_1))\n",
        "  model.add(LeakyReLU(alpha=leaky_relu_alpha))\n",
        "  model.add(Conv2D(32, kernel_size=kernel_size_1))\n",
        "  model.add(LeakyReLU(alpha=leaky_relu_alpha))\n",
        "  model.add(MaxPooling2D(pool_size_1))\n",
        "\n",
        "  #block2\n",
        "  model.add(Conv2D(64, kernel_size_2))\n",
        "  model.add(LeakyReLU(alpha=leaky_relu_alpha))\n",
        "  model.add(Conv2D(64, kernel_size_2))\n",
        "  model.add(LeakyReLU(alpha=leaky_relu_alpha))\n",
        "  model.add(MaxPooling2D(pool_size_2))\n",
        "  #Dense layer\n",
        "  model.add(Flatten())\n",
        "  model.add(Dense(128))\n",
        "  model.add(LeakyReLU(alpha=leaky_relu_alpha))\n",
        "  model.add(Dropout(dropout_rate))\n",
        "\n",
        "  model.add(Dense(number_of_classes, activation='softmax'))\n",
        "  # compile model\n",
        "  opt = keras.optimizers.Adam(learning_rate=0.001, epsilon=0.0001)\n",
        "  model.compile(optimizer=opt, loss='categorical_crossentropy', metrics=['accuracy'])\n",
        "  #model_log=model.fit(X, Y, epochs=epochs, batch_size=batch_size, verbose=1, validation_data=(test_X, test_Y))\n",
        "  return model\n"
      ],
      "metadata": {
        "id": "4fJN4UbmKtOy"
      },
      "execution_count": 21,
      "outputs": []
    },
    {
      "cell_type": "markdown",
      "source": [
        "#Model training"
      ],
      "metadata": {
        "id": "eFAgOntRNFjG"
      }
    },
    {
      "cell_type": "code",
      "source": [
        "model = baseline_model()\n",
        "model_log = model.fit(X, Y, epochs=epochs, batch_size=batch_size, verbose=1, validation_data=(test_X, test_Y))"
      ],
      "metadata": {
        "colab": {
          "base_uri": "https://localhost:8080/"
        },
        "id": "4hhrWc5ONJal",
        "outputId": "0bf40826-ec3b-43da-8003-36f2c7bce7e7"
      },
      "execution_count": 22,
      "outputs": [
        {
          "output_type": "stream",
          "name": "stdout",
          "text": [
            "Epoch 1/100\n",
            "63/63 [==============================] - 13s 21ms/step - loss: 0.1905 - accuracy: 0.9715 - val_loss: 1.1444e-09 - val_accuracy: 1.0000\n",
            "Epoch 2/100\n",
            "63/63 [==============================] - 1s 10ms/step - loss: 1.0407e-07 - accuracy: 1.0000 - val_loss: 8.5831e-10 - val_accuracy: 1.0000\n",
            "Epoch 3/100\n",
            "63/63 [==============================] - 1s 10ms/step - loss: 0.0016 - accuracy: 0.9999 - val_loss: 3.0518e-09 - val_accuracy: 1.0000\n",
            "Epoch 4/100\n",
            "63/63 [==============================] - 1s 11ms/step - loss: 1.7060e-07 - accuracy: 1.0000 - val_loss: 3.0041e-09 - val_accuracy: 1.0000\n",
            "Epoch 5/100\n",
            "63/63 [==============================] - 1s 11ms/step - loss: 1.1591e-05 - accuracy: 1.0000 - val_loss: 2.2888e-09 - val_accuracy: 1.0000\n",
            "Epoch 6/100\n",
            "63/63 [==============================] - 1s 11ms/step - loss: 5.8505e-08 - accuracy: 1.0000 - val_loss: 1.5259e-09 - val_accuracy: 1.0000\n",
            "Epoch 7/100\n",
            "63/63 [==============================] - 1s 13ms/step - loss: 1.0710e-06 - accuracy: 1.0000 - val_loss: 1.4782e-09 - val_accuracy: 1.0000\n",
            "Epoch 8/100\n",
            "63/63 [==============================] - 1s 16ms/step - loss: 2.1327e-06 - accuracy: 1.0000 - val_loss: 1.1921e-09 - val_accuracy: 1.0000\n",
            "Epoch 9/100\n",
            "63/63 [==============================] - 1s 12ms/step - loss: 1.0773e-07 - accuracy: 1.0000 - val_loss: 1.1921e-09 - val_accuracy: 1.0000\n",
            "Epoch 10/100\n",
            "63/63 [==============================] - 1s 10ms/step - loss: 4.2826e-07 - accuracy: 1.0000 - val_loss: 1.1921e-09 - val_accuracy: 1.0000\n",
            "Epoch 11/100\n",
            "63/63 [==============================] - 1s 10ms/step - loss: 5.2130e-07 - accuracy: 1.0000 - val_loss: 1.1444e-09 - val_accuracy: 1.0000\n",
            "Epoch 12/100\n",
            "63/63 [==============================] - 1s 10ms/step - loss: 2.4064e-08 - accuracy: 1.0000 - val_loss: 1.1444e-09 - val_accuracy: 1.0000\n",
            "Epoch 13/100\n",
            "63/63 [==============================] - 1s 11ms/step - loss: 7.3265e-08 - accuracy: 1.0000 - val_loss: 1.1444e-09 - val_accuracy: 1.0000\n",
            "Epoch 14/100\n",
            "63/63 [==============================] - 1s 10ms/step - loss: 3.5698e-08 - accuracy: 1.0000 - val_loss: 1.1444e-09 - val_accuracy: 1.0000\n",
            "Epoch 15/100\n",
            "63/63 [==============================] - 1s 10ms/step - loss: 9.3533e-06 - accuracy: 1.0000 - val_loss: 8.5831e-10 - val_accuracy: 1.0000\n",
            "Epoch 16/100\n",
            "63/63 [==============================] - 1s 11ms/step - loss: 4.9650e-08 - accuracy: 1.0000 - val_loss: 8.5831e-10 - val_accuracy: 1.0000\n",
            "Epoch 17/100\n",
            "63/63 [==============================] - 1s 11ms/step - loss: 4.3533e-08 - accuracy: 1.0000 - val_loss: 8.5831e-10 - val_accuracy: 1.0000\n",
            "Epoch 18/100\n",
            "63/63 [==============================] - 1s 12ms/step - loss: 1.7468e-08 - accuracy: 1.0000 - val_loss: 8.5831e-10 - val_accuracy: 1.0000\n",
            "Epoch 19/100\n",
            "63/63 [==============================] - 1s 10ms/step - loss: 1.5541e-06 - accuracy: 1.0000 - val_loss: 5.7220e-10 - val_accuracy: 1.0000\n",
            "Epoch 20/100\n",
            "63/63 [==============================] - 1s 11ms/step - loss: 2.9548e-08 - accuracy: 1.0000 - val_loss: 5.2452e-10 - val_accuracy: 1.0000\n",
            "Epoch 21/100\n",
            "63/63 [==============================] - 1s 12ms/step - loss: 1.3033e-08 - accuracy: 1.0000 - val_loss: 5.2452e-10 - val_accuracy: 1.0000\n",
            "Epoch 22/100\n",
            "63/63 [==============================] - 1s 11ms/step - loss: 5.7595e-08 - accuracy: 1.0000 - val_loss: 5.2452e-10 - val_accuracy: 1.0000\n",
            "Epoch 23/100\n",
            "63/63 [==============================] - 1s 12ms/step - loss: 5.6168e-08 - accuracy: 1.0000 - val_loss: 5.2452e-10 - val_accuracy: 1.0000\n",
            "Epoch 24/100\n",
            "63/63 [==============================] - 1s 13ms/step - loss: 8.4117e-07 - accuracy: 1.0000 - val_loss: 2.8610e-10 - val_accuracy: 1.0000\n",
            "Epoch 25/100\n",
            "63/63 [==============================] - 1s 13ms/step - loss: 1.4607e-08 - accuracy: 1.0000 - val_loss: 2.8610e-10 - val_accuracy: 1.0000\n",
            "Epoch 26/100\n",
            "63/63 [==============================] - 1s 14ms/step - loss: 9.9799e-06 - accuracy: 1.0000 - val_loss: 0.0000e+00 - val_accuracy: 1.0000\n",
            "Epoch 27/100\n",
            "63/63 [==============================] - 1s 10ms/step - loss: 1.5677e-06 - accuracy: 1.0000 - val_loss: 0.0000e+00 - val_accuracy: 1.0000\n",
            "Epoch 28/100\n",
            "63/63 [==============================] - 1s 10ms/step - loss: 7.2955e-09 - accuracy: 1.0000 - val_loss: 0.0000e+00 - val_accuracy: 1.0000\n",
            "Epoch 29/100\n",
            "63/63 [==============================] - 1s 11ms/step - loss: 2.1108e-08 - accuracy: 1.0000 - val_loss: 0.0000e+00 - val_accuracy: 1.0000\n",
            "Epoch 30/100\n",
            "63/63 [==============================] - 1s 11ms/step - loss: 5.1778e-08 - accuracy: 1.0000 - val_loss: 0.0000e+00 - val_accuracy: 1.0000\n",
            "Epoch 31/100\n",
            "63/63 [==============================] - 1s 11ms/step - loss: 1.0522e-08 - accuracy: 1.0000 - val_loss: 0.0000e+00 - val_accuracy: 1.0000\n",
            "Epoch 32/100\n",
            "63/63 [==============================] - 1s 12ms/step - loss: 3.3536e-08 - accuracy: 1.0000 - val_loss: 0.0000e+00 - val_accuracy: 1.0000\n",
            "Epoch 33/100\n",
            "63/63 [==============================] - 1s 10ms/step - loss: 3.9101e-09 - accuracy: 1.0000 - val_loss: 0.0000e+00 - val_accuracy: 1.0000\n",
            "Epoch 34/100\n",
            "63/63 [==============================] - 1s 10ms/step - loss: 3.4632e-08 - accuracy: 1.0000 - val_loss: 0.0000e+00 - val_accuracy: 1.0000\n",
            "Epoch 35/100\n",
            "63/63 [==============================] - 1s 10ms/step - loss: 1.9661e-08 - accuracy: 1.0000 - val_loss: 0.0000e+00 - val_accuracy: 1.0000\n",
            "Epoch 36/100\n",
            "63/63 [==============================] - 1s 11ms/step - loss: 1.2517e-07 - accuracy: 1.0000 - val_loss: 0.0000e+00 - val_accuracy: 1.0000\n",
            "Epoch 37/100\n",
            "63/63 [==============================] - 1s 11ms/step - loss: 5.5790e-09 - accuracy: 1.0000 - val_loss: 0.0000e+00 - val_accuracy: 1.0000\n",
            "Epoch 38/100\n",
            "63/63 [==============================] - 1s 10ms/step - loss: 8.4204e-07 - accuracy: 1.0000 - val_loss: 0.0000e+00 - val_accuracy: 1.0000\n",
            "Epoch 39/100\n",
            "63/63 [==============================] - 1s 11ms/step - loss: 1.7896e-08 - accuracy: 1.0000 - val_loss: 0.0000e+00 - val_accuracy: 1.0000\n",
            "Epoch 40/100\n",
            "63/63 [==============================] - 1s 12ms/step - loss: 3.1533e-08 - accuracy: 1.0000 - val_loss: 0.0000e+00 - val_accuracy: 1.0000\n",
            "Epoch 41/100\n",
            "63/63 [==============================] - 1s 13ms/step - loss: 1.4209e-08 - accuracy: 1.0000 - val_loss: 0.0000e+00 - val_accuracy: 1.0000\n",
            "Epoch 42/100\n",
            "63/63 [==============================] - 1s 13ms/step - loss: 1.6212e-09 - accuracy: 1.0000 - val_loss: 0.0000e+00 - val_accuracy: 1.0000\n",
            "Epoch 43/100\n",
            "63/63 [==============================] - 1s 13ms/step - loss: 1.1237e-08 - accuracy: 1.0000 - val_loss: 0.0000e+00 - val_accuracy: 1.0000\n",
            "Epoch 44/100\n",
            "63/63 [==============================] - 1s 10ms/step - loss: 8.3923e-09 - accuracy: 1.0000 - val_loss: 0.0000e+00 - val_accuracy: 1.0000\n",
            "Epoch 45/100\n",
            "63/63 [==============================] - 1s 10ms/step - loss: 3.1312e-09 - accuracy: 1.0000 - val_loss: 0.0000e+00 - val_accuracy: 1.0000\n",
            "Epoch 46/100\n",
            "63/63 [==============================] - 1s 10ms/step - loss: 3.6079e-08 - accuracy: 1.0000 - val_loss: 0.0000e+00 - val_accuracy: 1.0000\n",
            "Epoch 47/100\n",
            "63/63 [==============================] - 1s 11ms/step - loss: 1.4940e-08 - accuracy: 1.0000 - val_loss: 0.0000e+00 - val_accuracy: 1.0000\n",
            "Epoch 48/100\n",
            "63/63 [==============================] - 1s 11ms/step - loss: 7.6410e-08 - accuracy: 1.0000 - val_loss: 0.0000e+00 - val_accuracy: 1.0000\n",
            "Epoch 49/100\n",
            "63/63 [==============================] - 1s 11ms/step - loss: 4.6531e-07 - accuracy: 1.0000 - val_loss: 0.0000e+00 - val_accuracy: 1.0000\n",
            "Epoch 50/100\n",
            "63/63 [==============================] - 1s 10ms/step - loss: 2.6987e-08 - accuracy: 1.0000 - val_loss: 0.0000e+00 - val_accuracy: 1.0000\n",
            "Epoch 51/100\n",
            "63/63 [==============================] - 1s 10ms/step - loss: 1.1889e-08 - accuracy: 1.0000 - val_loss: 0.0000e+00 - val_accuracy: 1.0000\n",
            "Epoch 52/100\n",
            "63/63 [==============================] - 1s 11ms/step - loss: 4.4663e-09 - accuracy: 1.0000 - val_loss: 0.0000e+00 - val_accuracy: 1.0000\n",
            "Epoch 53/100\n",
            "63/63 [==============================] - 1s 11ms/step - loss: 2.4810e-08 - accuracy: 1.0000 - val_loss: 0.0000e+00 - val_accuracy: 1.0000\n",
            "Epoch 54/100\n",
            "63/63 [==============================] - 1s 11ms/step - loss: 1.8660e-07 - accuracy: 1.0000 - val_loss: 0.0000e+00 - val_accuracy: 1.0000\n",
            "Epoch 55/100\n",
            "63/63 [==============================] - 1s 11ms/step - loss: 9.1427e-08 - accuracy: 1.0000 - val_loss: 0.0000e+00 - val_accuracy: 1.0000\n",
            "Epoch 56/100\n",
            "63/63 [==============================] - 1s 11ms/step - loss: 7.9042e-08 - accuracy: 1.0000 - val_loss: 0.0000e+00 - val_accuracy: 1.0000\n",
            "Epoch 57/100\n",
            "63/63 [==============================] - 1s 10ms/step - loss: 2.9134e-08 - accuracy: 1.0000 - val_loss: 0.0000e+00 - val_accuracy: 1.0000\n",
            "Epoch 58/100\n",
            "63/63 [==============================] - 1s 12ms/step - loss: 1.8231e-08 - accuracy: 1.0000 - val_loss: 0.0000e+00 - val_accuracy: 1.0000\n",
            "Epoch 59/100\n",
            "63/63 [==============================] - 1s 14ms/step - loss: 6.8663e-09 - accuracy: 1.0000 - val_loss: 0.0000e+00 - val_accuracy: 1.0000\n",
            "Epoch 60/100\n",
            "63/63 [==============================] - 1s 13ms/step - loss: 2.0345e-09 - accuracy: 1.0000 - val_loss: 0.0000e+00 - val_accuracy: 1.0000\n",
            "Epoch 61/100\n",
            "63/63 [==============================] - 1s 12ms/step - loss: 1.7451e-08 - accuracy: 1.0000 - val_loss: 0.0000e+00 - val_accuracy: 1.0000\n",
            "Epoch 62/100\n",
            "63/63 [==============================] - 1s 11ms/step - loss: 6.0399e-10 - accuracy: 1.0000 - val_loss: 0.0000e+00 - val_accuracy: 1.0000\n",
            "Epoch 63/100\n",
            "63/63 [==============================] - 1s 10ms/step - loss: 3.6473e-08 - accuracy: 1.0000 - val_loss: 0.0000e+00 - val_accuracy: 1.0000\n",
            "Epoch 64/100\n",
            "63/63 [==============================] - 1s 10ms/step - loss: 7.2478e-09 - accuracy: 1.0000 - val_loss: 0.0000e+00 - val_accuracy: 1.0000\n",
            "Epoch 65/100\n",
            "63/63 [==============================] - 1s 11ms/step - loss: 1.0490e-09 - accuracy: 1.0000 - val_loss: 0.0000e+00 - val_accuracy: 1.0000\n",
            "Epoch 66/100\n",
            "63/63 [==============================] - 1s 10ms/step - loss: 5.5313e-09 - accuracy: 1.0000 - val_loss: 0.0000e+00 - val_accuracy: 1.0000\n",
            "Epoch 67/100\n",
            "63/63 [==============================] - 1s 11ms/step - loss: 7.6134e-09 - accuracy: 1.0000 - val_loss: 0.0000e+00 - val_accuracy: 1.0000\n",
            "Epoch 68/100\n",
            "63/63 [==============================] - 1s 11ms/step - loss: 2.5939e-07 - accuracy: 1.0000 - val_loss: 0.0000e+00 - val_accuracy: 1.0000\n",
            "Epoch 69/100\n",
            "63/63 [==============================] - 1s 10ms/step - loss: 3.1447e-07 - accuracy: 1.0000 - val_loss: 0.0000e+00 - val_accuracy: 1.0000\n",
            "Epoch 70/100\n",
            "63/63 [==============================] - 1s 12ms/step - loss: 1.2833e-07 - accuracy: 1.0000 - val_loss: 0.0000e+00 - val_accuracy: 1.0000\n",
            "Epoch 71/100\n",
            "63/63 [==============================] - 1s 10ms/step - loss: 3.9100e-09 - accuracy: 1.0000 - val_loss: 0.0000e+00 - val_accuracy: 1.0000\n",
            "Epoch 72/100\n",
            "63/63 [==============================] - 1s 10ms/step - loss: 7.7087e-09 - accuracy: 1.0000 - val_loss: 0.0000e+00 - val_accuracy: 1.0000\n",
            "Epoch 73/100\n",
            "63/63 [==============================] - 1s 11ms/step - loss: 1.5528e-08 - accuracy: 1.0000 - val_loss: 0.0000e+00 - val_accuracy: 1.0000\n",
            "Epoch 74/100\n",
            "63/63 [==============================] - 1s 11ms/step - loss: 3.6716e-09 - accuracy: 1.0000 - val_loss: 0.0000e+00 - val_accuracy: 1.0000\n",
            "Epoch 75/100\n",
            "63/63 [==============================] - 1s 12ms/step - loss: 7.9949e-09 - accuracy: 1.0000 - val_loss: 0.0000e+00 - val_accuracy: 1.0000\n",
            "Epoch 76/100\n",
            "63/63 [==============================] - 1s 12ms/step - loss: 8.5511e-09 - accuracy: 1.0000 - val_loss: 0.0000e+00 - val_accuracy: 1.0000\n",
            "Epoch 77/100\n",
            "63/63 [==============================] - 1s 13ms/step - loss: 1.3510e-09 - accuracy: 1.0000 - val_loss: 0.0000e+00 - val_accuracy: 1.0000\n",
            "Epoch 78/100\n",
            "63/63 [==============================] - 1s 12ms/step - loss: 1.1921e-09 - accuracy: 1.0000 - val_loss: 0.0000e+00 - val_accuracy: 1.0000\n",
            "Epoch 79/100\n",
            "63/63 [==============================] - 1s 11ms/step - loss: 3.5394e-08 - accuracy: 1.0000 - val_loss: 0.0000e+00 - val_accuracy: 1.0000\n",
            "Epoch 80/100\n",
            "63/63 [==============================] - 1s 12ms/step - loss: 3.4968e-10 - accuracy: 1.0000 - val_loss: 0.0000e+00 - val_accuracy: 1.0000\n",
            "Epoch 81/100\n",
            "63/63 [==============================] - 1s 12ms/step - loss: 1.4623e-09 - accuracy: 1.0000 - val_loss: 0.0000e+00 - val_accuracy: 1.0000\n",
            "Epoch 82/100\n",
            "63/63 [==============================] - 1s 11ms/step - loss: 5.9229e-07 - accuracy: 1.0000 - val_loss: 0.0000e+00 - val_accuracy: 1.0000\n",
            "Epoch 83/100\n",
            "63/63 [==============================] - 1s 11ms/step - loss: 7.1366e-09 - accuracy: 1.0000 - val_loss: 0.0000e+00 - val_accuracy: 1.0000\n",
            "Epoch 84/100\n",
            "63/63 [==============================] - 1s 11ms/step - loss: 3.1613e-07 - accuracy: 1.0000 - val_loss: 0.0000e+00 - val_accuracy: 1.0000\n",
            "Epoch 85/100\n",
            "63/63 [==============================] - 1s 11ms/step - loss: 5.6425e-09 - accuracy: 1.0000 - val_loss: 0.0000e+00 - val_accuracy: 1.0000\n",
            "Epoch 86/100\n",
            "63/63 [==============================] - 1s 10ms/step - loss: 1.0649e-09 - accuracy: 1.0000 - val_loss: 0.0000e+00 - val_accuracy: 1.0000\n",
            "Epoch 87/100\n",
            "63/63 [==============================] - 1s 11ms/step - loss: 1.1507e-08 - accuracy: 1.0000 - val_loss: 0.0000e+00 - val_accuracy: 1.0000\n",
            "Epoch 88/100\n",
            "63/63 [==============================] - 1s 11ms/step - loss: 4.8677e-08 - accuracy: 1.0000 - val_loss: 0.0000e+00 - val_accuracy: 1.0000\n",
            "Epoch 89/100\n",
            "63/63 [==============================] - 1s 10ms/step - loss: 6.3895e-09 - accuracy: 1.0000 - val_loss: 0.0000e+00 - val_accuracy: 1.0000\n",
            "Epoch 90/100\n",
            "63/63 [==============================] - 1s 11ms/step - loss: 2.5431e-10 - accuracy: 1.0000 - val_loss: 0.0000e+00 - val_accuracy: 1.0000\n",
            "Epoch 91/100\n",
            "63/63 [==============================] - 1s 10ms/step - loss: 1.2716e-09 - accuracy: 1.0000 - val_loss: 0.0000e+00 - val_accuracy: 1.0000\n",
            "Epoch 92/100\n",
            "63/63 [==============================] - 1s 10ms/step - loss: 8.4717e-09 - accuracy: 1.0000 - val_loss: 0.0000e+00 - val_accuracy: 1.0000\n",
            "Epoch 93/100\n",
            "63/63 [==============================] - 1s 13ms/step - loss: 9.6957e-10 - accuracy: 1.0000 - val_loss: 0.0000e+00 - val_accuracy: 1.0000\n",
            "Epoch 94/100\n",
            "63/63 [==============================] - 1s 13ms/step - loss: 3.8941e-09 - accuracy: 1.0000 - val_loss: 0.0000e+00 - val_accuracy: 1.0000\n",
            "Epoch 95/100\n",
            "63/63 [==============================] - 1s 13ms/step - loss: 9.5367e-11 - accuracy: 1.0000 - val_loss: 0.0000e+00 - val_accuracy: 1.0000\n",
            "Epoch 96/100\n",
            "63/63 [==============================] - 1s 11ms/step - loss: 4.6571e-09 - accuracy: 1.0000 - val_loss: 0.0000e+00 - val_accuracy: 1.0000\n",
            "Epoch 97/100\n",
            "63/63 [==============================] - 1s 11ms/step - loss: 2.1140e-09 - accuracy: 1.0000 - val_loss: 0.0000e+00 - val_accuracy: 1.0000\n",
            "Epoch 98/100\n",
            "63/63 [==============================] - 1s 11ms/step - loss: 3.0994e-09 - accuracy: 1.0000 - val_loss: 0.0000e+00 - val_accuracy: 1.0000\n",
            "Epoch 99/100\n",
            "63/63 [==============================] - 1s 11ms/step - loss: 1.7484e-10 - accuracy: 1.0000 - val_loss: 0.0000e+00 - val_accuracy: 1.0000\n",
            "Epoch 100/100\n",
            "63/63 [==============================] - 1s 11ms/step - loss: 1.6212e-09 - accuracy: 1.0000 - val_loss: 0.0000e+00 - val_accuracy: 1.0000\n"
          ]
        }
      ]
    },
    {
      "cell_type": "markdown",
      "source": [
        "#Evaluate Model"
      ],
      "metadata": {
        "id": "LwzLr4m8NZOu"
      }
    },
    {
      "cell_type": "code",
      "source": [
        "# evaluate a model\n",
        "def evaluate_model(model,model_log):\n",
        "\tprint('Train loss:', model_log.history['loss'][-1])\n",
        "\tprint('Train accuracy:', model_log.history['accuracy'][-1])\n",
        "\n",
        "\tprint('Test loss:', model_log.history['val_loss'][-1])\n",
        "\tprint('Test accuracy:', model_log.history['val_accuracy'][-1])\n",
        "\n",
        "\t# plot accuracy\n",
        "\tplt.subplot(2, 1, 1)\n",
        "\tplt.plot(range(1,101),model_log.history['accuracy'])\n",
        "\tplt.plot(range(1,101),model_log.history['val_accuracy'])\n",
        "\tplt.title('Model accuracy')\n",
        "\tplt.ylabel('accuracy')\n",
        "\tplt.xlabel('epoch')\n",
        "\tplt.legend(['train','test'],loc='lower right')\n",
        "\t# plot loss\n",
        "\tplt.subplot(2, 1, 2)\n",
        "\tplt.plot(range(1,101),model_log.history['loss'])\n",
        "\tplt.plot(range(1,101),model_log.history['val_loss'])\n",
        "\tplt.title('Model loss')\n",
        "\tplt.ylabel('loss')\n",
        "\tplt.xlabel('epoch')\n",
        "\tplt.legend(['train','test'],loc='upper right')\n",
        "\n",
        "\tplt.tight_layout()\n",
        "\treturn\n",
        "\n",
        "#If the graphs are similar for both train and test data, it\n",
        "#is an indication no overfitting of train data"
      ],
      "metadata": {
        "id": "AhIk47H0etcX"
      },
      "execution_count": 26,
      "outputs": []
    },
    {
      "cell_type": "code",
      "source": [
        "evaluate_model(model, model_log)"
      ],
      "metadata": {
        "colab": {
          "base_uri": "https://localhost:8080/",
          "height": 555
        },
        "id": "eFrFK6G0NKs5",
        "outputId": "113cc70e-ddef-4e1e-c5b0-30fd70992b86"
      },
      "execution_count": 27,
      "outputs": [
        {
          "output_type": "stream",
          "name": "stdout",
          "text": [
            "Train loss: 1.6212429176931664e-09\n",
            "Train accuracy: 1.0\n",
            "Test loss: 0.0\n",
            "Test accuracy: 1.0\n"
          ]
        },
        {
          "output_type": "display_data",
          "data": {
            "text/plain": [
              "<Figure size 640x480 with 2 Axes>"
            ],
            "image/png": "[encoded data removed]"
          },
          "metadata": {}
        }
      ]
    },
    {
      "cell_type": "code",
      "source": [
        "plt.imshow(test_X[2].reshape(convolution_shape))"
      ],
      "metadata": {
        "colab": {
          "base_uri": "https://localhost:8080/",
          "height": 447
        },
        "id": "Wj7slWF-lICP",
        "outputId": "008524ec-2e65-4aa2-d6b9-7c5fcd529c64"
      },
      "execution_count": 63,
      "outputs": [
        {
          "output_type": "execute_result",
          "data": {
            "text/plain": [
              "<matplotlib.image.AxesImage at 0x7ec790992770>"
            ]
          },
          "metadata": {},
          "execution_count": 63
        },
        {
          "output_type": "display_data",
          "data": {
            "text/plain": [
              "<Figure size 640x480 with 1 Axes>"
            ],
            "image/png": "[encoded data removed]"
          },
          "metadata": {}
        }
      ]
    },
    {
      "cell_type": "code",
      "source": [
        "print(input_shape)"
      ],
      "metadata": {
        "colab": {
          "base_uri": "https://localhost:8080/"
        },
        "id": "FQ6_HrCkcxS8",
        "outputId": "1fe72522-6908-42ec-935d-f8defe6501e1"
      },
      "execution_count": 43,
      "outputs": [
        {
          "output_type": "stream",
          "name": "stdout",
          "text": [
            "(2352,)\n"
          ]
        }
      ]
    },
    {
      "cell_type": "code",
      "source": [
        "testX0 = test_X[0].reshape(-1,28,28)\n",
        "print(X.shape)\n",
        "print(Y.shape)\n",
        "print(test_X.shape)\n",
        "print(test_X[2].reshape(convolution_shape).shape)\n",
        "print(test_Y.shape)"
      ],
      "metadata": {
        "colab": {
          "base_uri": "https://localhost:8080/"
        },
        "id": "G_1rfVpZeAwL",
        "outputId": "6ca5f129-3874-41a2-be07-467e5c701f73"
      },
      "execution_count": 64,
      "outputs": [
        {
          "output_type": "stream",
          "name": "stdout",
          "text": [
            "(7500, 2352)\n",
            "(7500, 10)\n",
            "(2500, 2352)\n",
            "(28, 28, 3)\n",
            "(2500, 10)\n"
          ]
        }
      ]
    },
    {
      "cell_type": "code",
      "source": [
        "prediction = model.predict(test_X[2].reshape(convolution_shape))"
      ],
      "metadata": {
        "id": "6uCwfNnJkxf0"
      },
      "execution_count": null,
      "outputs": []
    },
    {
      "cell_type": "code",
      "source": [
        "from numpy import argmax\n",
        "testX0 = test_X[2].reshape(convolution_shape)\n",
        "prediction = model.predict(testX0)\n",
        "\n",
        "#generate arg maxes for prediction\n",
        "predicted_class = argmax(prediction)\n",
        "print(predicted_class)"
      ],
      "metadata": {
        "id": "udW6z-B_xNTT"
      },
      "execution_count": null,
      "outputs": []
    }
  ]
}